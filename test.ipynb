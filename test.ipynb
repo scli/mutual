{
 "cells": [
  {
   "cell_type": "code",
   "execution_count": 1,
   "metadata": {},
   "outputs": [],
   "source": [
    "import numpy as np\n",
    "from sklearn.feature_selection._mutual_info import _compute_mi\n",
    "import mi\n",
    "import warnings\n",
    "warnings.simplefilter(action='ignore', category=FutureWarning)\n",
    "import mimy\n",
    "\n",
    "def computeMI(fea1, fea2, k=10):\n",
    "    if len(np.unique(fea1))==1 or len(np.unique(fea2))==1:\n",
    "        return 0.\n",
    "    is_discrete1 = ( len(np.unique(fea1)) <= len(fea1)/2 )\n",
    "    is_discrete2 = ( len(np.unique(fea2)) <= len(fea2)/2 )\n",
    "    return _compute_mi(fea1, fea2, is_discrete1, is_discrete2, k)"
   ]
  },
  {
   "cell_type": "markdown",
   "metadata": {},
   "source": [
    "#### Generate a random test case"
   ]
  },
  {
   "cell_type": "code",
   "execution_count": 2,
   "metadata": {},
   "outputs": [
    {
     "name": "stdout",
     "output_type": "stream",
     "text": [
      "0.5167239298883697\n",
      "0.41743211830223004\n"
     ]
    }
   ],
   "source": [
    "for i in range(5):\n",
    "    if i == 0:\n",
    "        X = [i]*20\n",
    "        Y = i + np.random.randn(20)\n",
    "    else:\n",
    "        x = [i]*20\n",
    "        X = np.hstack((X,x))\n",
    "        y = i + np.random.randn(20)\n",
    "        Y = np.hstack((Y,y))\n",
    "\n",
    "xy = np.vstack((X, Y)).transpose()\n",
    "np.savetxt(\"test.csv\", xy, fmt='%s,%s')"
   ]
  },
  {
   "cell_type": "markdown",
   "metadata": {},
   "source": [
    "#### Compare MI implementations"
   ]
  },
  {
   "cell_type": "code",
   "execution_count": 5,
   "metadata": {},
   "outputs": [
    {
     "name": "stdout",
     "output_type": "stream",
     "text": [
      "k=5:\tscikit=0.4608\tmimy=0.4608\tbb=0.4174\n",
      "k=6:\tscikit=0.4279\tmimy=0.4279\tbb=0.4174\n",
      "k=7:\tscikit=0.4591\tmimy=0.4591\tbb=0.4174\n",
      "k=8:\tscikit=0.4398\tmimy=0.4398\tbb=0.4174\n",
      "k=9:\tscikit=0.4627\tmimy=0.4627\tbb=0.4174\n",
      "k=10:\tscikit=0.4374\tmimy=0.4590\tbb=0.4174\n",
      "k=11:\tscikit=0.4577\tmimy=0.4777\tbb=0.4174\n"
     ]
    }
   ],
   "source": [
    "xy = np.genfromtxt(\"test.csv\", delimiter=\",\")\n",
    "for k in range(5, 12):\n",
    "    scikit_res = _compute_mi(xy[:,0], xy[:,1], True, False, k)\n",
    "    mimy_res = mimy._mi_dc(xy[:,[1]], xy[:,0], k)\n",
    "    mi.setk(10)\n",
    "    mi.setalgo(1)\n",
    "    bb_res = mi.mi(xy[:,[0]], xy[:,[1]])\n",
    "    print(\"k={}:\\tscikit={:.4f}\\tmimy={:.4f}\\tbb={:.4f}\".format(k, scikit_res, mimy_res, bb_res))"
   ]
  },
  {
   "cell_type": "code",
   "execution_count": null,
   "metadata": {},
   "outputs": [],
   "source": []
  }
 ],
 "metadata": {
  "kernelspec": {
   "display_name": "Python 3",
   "language": "python",
   "name": "python3"
  },
  "language_info": {
   "codemirror_mode": {
    "name": "ipython",
    "version": 3
   },
   "file_extension": ".py",
   "mimetype": "text/x-python",
   "name": "python",
   "nbconvert_exporter": "python",
   "pygments_lexer": "ipython3",
   "version": "3.6.7"
  }
 },
 "nbformat": 4,
 "nbformat_minor": 2
}
